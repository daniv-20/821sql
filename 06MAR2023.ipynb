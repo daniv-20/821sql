{
 "cells": [
  {
   "cell_type": "code",
   "execution_count": 1,
   "metadata": {},
   "outputs": [],
   "source": [
    "import sqlite3"
   ]
  },
  {
   "attachments": {},
   "cell_type": "markdown",
   "metadata": {},
   "source": [
    "sqlite is not exclusive to python!\n",
    "\n",
    "sqlite stores all of the database in a single file on the disk\n",
    "very transparent about storage \n",
    "only issues is that it doesn't scale well if you have multiple machines using the same database"
   ]
  },
  {
   "cell_type": "markdown",
   "metadata": {},
   "source": [
    "connection = sqlite3.connect(\"test_database.db\")\n",
    "cursor = connection.cursor()\n",
    "cursor.execute(\"CREATE TABLE IF NOT EXISTS Users(name VARCHAR, dob INTEGER, pw BLOB)\")\n",
    "cursor.execute(\"INSERT INTO Users VALUES(?,?,?)\", (\"Patrick\", 1970, \"helloworld\"))\n",
    "data = cursor.excecute(\"SELECT * FROM Users\")\n",
    "print(data)\n",
    "\n"
   ]
  }
 ],
 "metadata": {
  "kernelspec": {
   "display_name": "venv",
   "language": "python",
   "name": "python3"
  },
  "language_info": {
   "codemirror_mode": {
    "name": "ipython",
    "version": 3
   },
   "file_extension": ".py",
   "mimetype": "text/x-python",
   "name": "python",
   "nbconvert_exporter": "python",
   "pygments_lexer": "ipython3",
   "version": "3.10.9"
  },
  "orig_nbformat": 4
 },
 "nbformat": 4,
 "nbformat_minor": 2
}
